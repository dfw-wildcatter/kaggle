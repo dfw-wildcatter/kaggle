{
 "cells": [
  {
   "cell_type": "markdown",
   "metadata": {},
   "source": [
    "# **SVR MODEL FOR HOUSE PRICES**"
   ]
  },
  {
   "cell_type": "code",
   "execution_count": 156,
   "metadata": {
    "collapsed": true
   },
   "outputs": [],
   "source": [
    "import pandas as pd\n",
    "import pylab as pl\n",
    "import numpy as np\n",
    "import scipy.optimize as opt\n",
    "from sklearn import preprocessing\n",
    "from sklearn.model_selection import train_test_split\n",
    "from sklearn.metrics import classification_report\n",
    "\n",
    "%matplotlib inline \n",
    "import matplotlib.pyplot as plt"
   ]
  },
  {
   "cell_type": "code",
   "execution_count": 157,
   "metadata": {
    "collapsed": false
   },
   "outputs": [
    {
     "name": "stdout",
     "output_type": "stream",
     "text": [
      "(1458, 66) (1458,) (1459, 66)\n"
     ]
    }
   ],
   "source": [
    "# fetch data\n",
    "train = pd.read_csv('train_engineered.csv')\n",
    "test = pd.read_csv('test_engineered.csv')\n",
    "outcomes = pd.read_csv('outcomes.csv')\n",
    "y = np.asarray(outcomes['SalePrice'].values)\n",
    "train_id = train['Id']; test_id = test['Id']\n",
    "del train['Id']\n",
    "del test['Id']\n",
    "\n",
    "# feature selection\n",
    "features_selected =['AllSF', 'OverallQual', 'AllFlrsSF', '1stFlr_2ndFlr_Sf', 'GrLivArea',\n",
    "                    'All_Liv_SF', 'ExterQual', 'TotalBath', 'KitchenQual', 'GarageCars',\n",
    "                    'OverallGrade', '1stFlrSF', 'ExterGrade', 'YearBuilt', 'FullBath',\n",
    "                    'YearRemodAdd', 'TotRmsAbvGrd', 'FireplaceScore', 'FireplaceQu',\n",
    "                    'Foundation_PConc', 'BsmtQual', 'GarageArea', 'Fireplaces',\n",
    "                    'GarageScore', 'HeatingQC', 'OpenPorchSF', 'TotalBsmtSF',\n",
    "                    'KitchenScore', 'MasVnrArea', 'GarageFinish_Fin', 'GarageType_Attchd',\n",
    "                    'LotArea', 'HasMasVnr', 'LotFrontage', 'GarageGrade', 'GarageQual',\n",
    "                    'GarageCond', 'Neighborhood_NridgHt', 'CentralAir_Y', 'WoodDeckSF',\n",
    "                    'Exterior2nd_VinylSd', 'Exterior1st_VinylSd', 'BsmtExposure',\n",
    "                    'SaleType_New', 'GarageYrBlt', 'BoughtOffPlan', 'SaleCondition_Partial',\n",
    "                    'HalfBath', 'MasVnrType_Stone', 'BsmtFinType1', 'RecentRemodel', 'lat',\n",
    "                    'IsElectricalSBrkr', 'Electrical_SBrkr', 'PavedDrive', 'HasWoodDeck',\n",
    "                    'GarageType_No', 'GarageFinish_No', 'Foundation_CBlock', 'MSZoning_RM',\n",
    "                    'CentralAir_N', 'MasVnrType_None', 'GarageType_Detchd', \n",
    "                    'IsGarageDetached', 'GarageFinish_Unf', 'HasOpenPorch']\n",
    "\n",
    "# split features observations for train and forecast\n",
    "X = np.asarray(train[features_selected])\n",
    "X_forecast = np.asarray(test[features_selected])\n",
    "print(X.shape, y.shape, X_forecast.shape)"
   ]
  },
  {
   "cell_type": "code",
   "execution_count": 158,
   "metadata": {
    "collapsed": false
   },
   "outputs": [
    {
     "name": "stdout",
     "output_type": "stream",
     "text": [
      "Train set: (1312, 66) (1312,)\n",
      "Test set: (146, 66) (146,)\n"
     ]
    }
   ],
   "source": [
    "# split the dataset in train and validation sets\n",
    "X_train, X_test, y_train, y_test = train_test_split(X, y, test_size=0.1, random_state=4)\n",
    "print ('Train set:', X_train.shape,  y_train.shape)\n",
    "print ('Test set:', X_test.shape,  y_test.shape)"
   ]
  },
  {
   "cell_type": "code",
   "execution_count": 159,
   "metadata": {
    "collapsed": false
   },
   "outputs": [
    {
     "name": "stdout",
     "output_type": "stream",
     "text": [
      "{'estimator__C': 1.4, 'estimator__epsilon': 0.06, 'estimator__kernel': 'rbf'}\n"
     ]
    }
   ],
   "source": [
    "# set the parameters by cross-validation\n",
    "from sklearn.pipeline import Pipeline\n",
    "from sklearn.preprocessing import StandardScaler\n",
    "from sklearn.model_selection import GridSearchCV\n",
    "from sklearn.svm import SVR\n",
    "\n",
    "y_scaler = StandardScaler()\n",
    "y_train = y_scaler.fit_transform(y_train.reshape(-1, 1))\n",
    "\n",
    "pipe = Pipeline(steps=[('scaler', StandardScaler()), ('estimator', SVR())])\n",
    "param_grid=dict(estimator__kernel = ['rbf'],\n",
    "                estimator__C = [1.0, 1.2, 1.3, 1.4, 1.5, 1.6, 1.7, 1.8, 2.0, 2.2, 2.4],\n",
    "                estimator__epsilon = [0.045, 0.055, 0.06, 0.065, 0.07, 0.075, 0.08, 0.09, 0.1])\n",
    "\n",
    "search = GridSearchCV(pipe, param_grid, n_jobs=-1)\n",
    "search.fit(X_train, y_train.ravel())\n",
    "print(search.best_params_)\n",
    "#best model: {'estimator__C': 1.4, 'estimator__epsilon': 0.06, 'estimator__kernel': 'rbf'}"
   ]
  },
  {
   "cell_type": "code",
   "execution_count": 160,
   "metadata": {
    "collapsed": false
   },
   "outputs": [
    {
     "data": {
      "text/plain": [
       "array([236628.3621231 , 216683.58015364, 149113.33541506, 133962.87537637,\n",
       "        94747.46333653])"
      ]
     },
     "execution_count": 160,
     "metadata": {},
     "output_type": "execute_result"
    }
   ],
   "source": [
    "# prediction for the validation set\n",
    "yhat = y_scaler.inverse_transform(search.predict(X_test))\n",
    "yhat = np.expm1(yhat)\n",
    "y_test = np.expm1(y_test)\n",
    "yhat[0:5]"
   ]
  },
  {
   "cell_type": "code",
   "execution_count": 161,
   "metadata": {
    "collapsed": false,
    "scrolled": true
   },
   "outputs": [
    {
     "name": "stdout",
     "output_type": "stream",
     "text": [
      "26196.21347362137\n"
     ]
    }
   ],
   "source": [
    "# plot a few predictions versus outcomes\n",
    "from sklearn.metrics import mean_squared_error\n",
    "from math import sqrt\n",
    "rms = sqrt(mean_squared_error(y_test, yhat))\n",
    "print(rms)\n",
    "\n",
    "#x = np.arange(20)\n",
    "#plt.plot(x, yhat[0:20], marker = 's', linestyle = 'None')\n",
    "#plt.plot(x, y_test[0:20], marker = 'o', linestyle = 'None')\n",
    "#plt.show()"
   ]
  },
  {
   "cell_type": "code",
   "execution_count": 162,
   "metadata": {
    "collapsed": false,
    "scrolled": true
   },
   "outputs": [
    {
     "data": {
      "text/plain": [
       "array([121457.28530967, 157374.77788366, 187730.72517597, 189329.02446707,\n",
       "       182945.24387831])"
      ]
     },
     "execution_count": 162,
     "metadata": {},
     "output_type": "execute_result"
    }
   ],
   "source": [
    "# prediction for given test set\n",
    "prediction = y_scaler.inverse_transform(search.predict(X_forecast))\n",
    "prediction = np.expm1(prediction)\n",
    "prediction[0:5]"
   ]
  },
  {
   "cell_type": "code",
   "execution_count": 165,
   "metadata": {
    "collapsed": false
   },
   "outputs": [],
   "source": [
    "# check difference with previous submission\n",
    "#previous = pd.read_csv('submission.csv')\n",
    "#previous = np.asarray(previous['SalePrice'])\n",
    "#plt.figure(figsize=(10,10))\n",
    "#idx = np.where(prediction > 300000)\n",
    "#plt.scatter(prediction[idx], previous[idx])\n",
    "#plt.show()"
   ]
  },
  {
   "cell_type": "code",
   "execution_count": 166,
   "metadata": {
    "collapsed": true
   },
   "outputs": [],
   "source": [
    "#pd.DataFrame(prediction).to_csv('yhat.csv')"
   ]
  }
 ],
 "metadata": {
  "kernelspec": {
   "display_name": "Python 3",
   "language": "python",
   "name": "python3"
  },
  "language_info": {
   "codemirror_mode": {
    "name": "ipython",
    "version": 3
   },
   "file_extension": ".py",
   "mimetype": "text/x-python",
   "name": "python",
   "nbconvert_exporter": "python",
   "pygments_lexer": "ipython3",
   "version": "3.6.8"
  }
 },
 "nbformat": 4,
 "nbformat_minor": 4
}
