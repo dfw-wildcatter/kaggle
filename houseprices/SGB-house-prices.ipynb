{
 "cells": [
  {
   "cell_type": "markdown",
   "metadata": {},
   "source": [
    "**SVR MODEL FOR HOUSE PRICES**"
   ]
  },
  {
   "cell_type": "code",
   "execution_count": 1,
   "metadata": {
    "collapsed": true
   },
   "outputs": [],
   "source": [
    "import pandas as pd\n",
    "import pylab as pl\n",
    "import numpy as np\n",
    "import scipy.optimize as opt\n",
    "from sklearn import preprocessing\n",
    "from sklearn.model_selection import train_test_split\n",
    "from sklearn.metrics import classification_report\n",
    "\n",
    "%matplotlib inline \n",
    "import matplotlib.pyplot as plt"
   ]
  },
  {
   "cell_type": "code",
   "execution_count": 2,
   "metadata": {
    "collapsed": false
   },
   "outputs": [
    {
     "name": "stdout",
     "output_type": "stream",
     "text": [
      "['Condition1', 'Condition2', 'SaleCondition', 'GarageFinish', 'MSZoning_C (all)', 'MSZoning_FV', 'MSZoning_RH', 'MSZoning_RL', 'MSZoning_RM', 'Alley_1', 'Alley_2', 'Alley_None', 'LandContour_Bnk', 'LandContour_HLS', 'LandContour_Low', 'LandContour_Lvl', 'LotConfig_Corner', 'LotConfig_CulDSac', 'LotConfig_FR2', 'LotConfig_FR3', 'LotConfig_Inside', 'Neighborhood_Blmngtn', 'Neighborhood_Blueste', 'Neighborhood_BrDale', 'Neighborhood_BrkSide', 'Neighborhood_ClearCr', 'Neighborhood_CollgCr', 'Neighborhood_Crawfor', 'Neighborhood_Edwards', 'Neighborhood_Gilbert', 'Neighborhood_IDOTRR', 'Neighborhood_MeadowV', 'Neighborhood_Mitchel', 'Neighborhood_NAmes', 'Neighborhood_NPkVill', 'Neighborhood_NWAmes', 'Neighborhood_NoRidge', 'Neighborhood_NridgHt', 'Neighborhood_OldTown', 'Neighborhood_SWISU', 'Neighborhood_Sawyer', 'Neighborhood_SawyerW', 'Neighborhood_Somerst', 'Neighborhood_StoneBr', 'Neighborhood_Timber', 'Neighborhood_Veenker', 'BldgType_1Fam', 'BldgType_2fmCon', 'BldgType_Duplex', 'BldgType_Twnhs', 'BldgType_TwnhsE', 'HouseStyle_1.5Fin', 'HouseStyle_1.5Unf', 'HouseStyle_1Story', 'HouseStyle_2.5Fin', 'HouseStyle_2.5Unf', 'HouseStyle_2Story', 'HouseStyle_SFoyer', 'HouseStyle_SLvl', 'RoofStyle_Flat', 'RoofStyle_Gable', 'RoofStyle_Gambrel', 'RoofStyle_Hip', 'RoofStyle_Mansard', 'RoofStyle_Shed', 'RoofMatl_ClyTile', 'RoofMatl_CompShg', 'RoofMatl_Membran', 'RoofMatl_Metal', 'RoofMatl_Roll', 'RoofMatl_Tar&Grv', 'RoofMatl_WdShake', 'RoofMatl_WdShngl', 'Exterior1st_AsbShng', 'Exterior1st_AsphShn', 'Exterior1st_BrkComm', 'Exterior1st_BrkFace', 'Exterior1st_CBlock', 'Exterior1st_CemntBd', 'Exterior1st_HdBoard', 'Exterior1st_ImStucc', 'Exterior1st_MetalSd', 'Exterior1st_Plywood', 'Exterior1st_Stone', 'Exterior1st_Stucco', 'Exterior1st_VinylSd', 'Exterior1st_Wd Sdng', 'Exterior1st_WdShing', 'Exterior2nd_AsbShng', 'Exterior2nd_AsphShn', 'Exterior2nd_Brk Cmn', 'Exterior2nd_BrkFace', 'Exterior2nd_CBlock', 'Exterior2nd_CmentBd', 'Exterior2nd_HdBoard', 'Exterior2nd_ImStucc', 'Exterior2nd_MetalSd', 'Exterior2nd_Other', 'Exterior2nd_Plywood', 'Exterior2nd_Stone', 'Exterior2nd_Stucco', 'Exterior2nd_VinylSd', 'Exterior2nd_Wd Sdng', 'Exterior2nd_Wd Shng', 'MasVnrType_BrkCmn', 'MasVnrType_BrkFace', 'MasVnrType_None', 'MasVnrType_Stone', 'Foundation_BrkTil', 'Foundation_CBlock', 'Foundation_PConc', 'Foundation_Slab', 'Foundation_Stone', 'Foundation_Wood', 'Heating_Floor', 'Heating_GasA', 'Heating_GasW', 'Heating_Grav', 'Heating_OthW', 'Heating_Wall', 'CentralAir_N', 'CentralAir_Y', 'Electrical_FuseA', 'Electrical_FuseF', 'Electrical_FuseP', 'Electrical_Mix', 'Electrical_SBrkr', 'GarageType_2Types', 'GarageType_Attchd', 'GarageType_Basment', 'GarageType_BuiltIn', 'GarageType_CarPort', 'GarageType_Detchd', 'GarageType_No', 'Fence_GdPrv', 'Fence_GdWo', 'Fence_MnPrv', 'Fence_MnWw', 'Fence_No', 'MiscFeature_Gar2', 'MiscFeature_No', 'MiscFeature_Othr', 'MiscFeature_Shed', 'MiscFeature_TenC', 'SaleType_COD', 'SaleType_CWD', 'SaleType_Con', 'SaleType_ConLD', 'SaleType_ConLI', 'SaleType_ConLw', 'SaleType_New', 'SaleType_Oth', 'SaleType_WD', 'MSSubClass', 'LotFrontage', 'LotArea', 'Street', 'LotShape', 'Utilities', 'LandSlope', 'OverallQual', 'OverallCond', 'YearBuilt', 'YearRemodAdd', 'MasVnrArea', 'ExterQual', 'ExterCond', 'BsmtQual', 'BsmtCond', 'BsmtExposure', 'BsmtFinType1', 'BsmtFinSF1', 'BsmtFinType2', 'BsmtFinSF2', 'BsmtUnfSF', 'TotalBsmtSF', 'HeatingQC', '1stFlrSF', '2ndFlrSF', 'LowQualFinSF', 'GrLivArea', 'BsmtFullBath', 'BsmtHalfBath', 'FullBath', 'HalfBath', 'BedroomAbvGr', 'KitchenAbvGr', 'KitchenQual', 'TotRmsAbvGrd', 'Functional', 'Fireplaces', 'FireplaceQu', 'GarageYrBlt', 'GarageCars', 'GarageArea', 'GarageQual', 'GarageCond', 'PavedDrive', 'WoodDeckSF', 'OpenPorchSF', 'EnclosedPorch', '3SsnPorch', 'ScreenPorch', 'PoolArea', 'PoolQC', 'MiscVal', 'MoSold', 'YrSold', 'lat', 'lon', 'IsRegularLotShape', 'IsLandLevel', 'IsLandSlopeGentle', 'IsElectricalSBrkr', 'IsGarageDetached', 'IsPavedDrive', 'HasShed', 'Remodeled', 'RecentRemodel', 'VeryNewHouse', 'HasMasVnr', 'HasWoodDeck', 'HasOpenPorch', 'HasEnclosedPorch', 'Has3SsnPorch', 'HasScreenPorch', 'SimplOverallQual', 'SimplOverallCond', 'SimplPoolQC', 'SimplGarageCond', 'SimplGarageQual', 'SimplFireplaceQu', 'SimplFunctional', 'SimplKitchenQual', 'SimplHeatingQC', 'BadHeating', 'SimplBsmtFinType1', 'SimplBsmtFinType2', 'SimplBsmtCond', 'SimplBsmtQual', 'SimplExterCond', 'SimplExterQual', 'OverallGrade', 'GarageGrade', 'ExterGrade', 'KitchenScore', 'FireplaceScore', 'GarageScore', 'PoolScore', 'SimplOverallGrade', 'SimplExterGrade', 'SimplPoolScore', 'SimplGarageScore', 'SimplFireplaceScore', 'SimplKitchenScore', 'TotalBath', 'AllSF', 'AllFlrsSF', 'AllPorchSF', 'SaleCondition_PriceDown', 'BoughtOffPlan', '1stFlr_2ndFlr_Sf', 'All_Liv_SF', 'SalePrice']\n"
     ]
    }
   ],
   "source": [
    "# fetch data\n",
    "df = pd.read_csv('train.csv')\n",
    "y = np.asarray(df.loc[:,'SalePrice'].values.astype(int))\n",
    "mask = len(y)\n",
    "df_forecast = pd.read_csv('test.csv')\n",
    "NaN = np.nan\n",
    "df_forecast['SalePrice'] = NaN\n",
    "\n",
    "# merge train and test data for data manipulation\n",
    "df = pd.concat([df, df_forecast], sort=False)\n",
    "df2 = df.copy()\n",
    "\n",
    "del df2['Id']\n",
    "\n",
    "# all below from https://www.kaggle.com/juliensiems/cleaning-new-features-gps-coordinates-included\n",
    "\n",
    "# replace missing values with zeros\n",
    "ls = ['BsmtHalfBath', 'BsmtUnfSF', 'EnclosedPorch', 'Fireplaces', 'GarageArea', 'GarageCars',\n",
    "     'KitchenAbvGr', 'LotFrontage', 'MasVnrArea', 'MiscVal', 'OpenPorchSF', 'PoolArea',\n",
    "      'ScreenPorch', 'TotRmsAbvGrd', 'WoodDeckSF']\n",
    "for f in ls:\n",
    "    df2[f].fillna(0, inplace=True)\n",
    "    \n",
    "# relace missing values with labels\n",
    "ls_no = ['BsmtQual', 'BsmtCond', 'BsmtExposure', 'BsmtFinType1', 'BsmtFinType2', 'Fence',\n",
    "        'FireplaceQu', 'GarageType', 'GarageFinish', 'GarageQual', 'GarageCond', 'MiscFeature','PoolQC']\n",
    "for f in ls_no:\n",
    "    df2[f].fillna(\"No\", inplace=True)\n",
    "    \n",
    "# replace missing values with other labels\n",
    "ls_ta = ['ExterCond', 'ExterQual', 'HeatingQC', 'KitchenQual']\n",
    "ls_norm = ['Condition1', 'Condition2']\n",
    "for f in ls_ta:\n",
    "    df2[f].fillna(\"TA\", inplace=True)\n",
    "for f in ls_norm:\n",
    "    df2[f].fillna(\"Norm\", inplace=True)\n",
    "\n",
    "df2['Alley'].fillna('None', inplace=True)\n",
    "df2['CentralAir'].fillna('N', inplace=True)\n",
    "df2['PavedDrive'].fillna('N', inplace=True)\n",
    "df2['Functional'].fillna('Typ', inplace=True)\n",
    "df2['LotShape'].fillna('Reg', inplace=True)\n",
    "df2['MasVnrType'].fillna('None', inplace=True)\n",
    "df2['SaleCondition'].fillna('Normal', inplace=True)\n",
    "df2['Utilities'].fillna('AllPub', inplace=True)\n",
    "\n",
    "# add features to replace neighborhood by its coordinates\n",
    "df2['lat'] = df2['Neighborhood'].replace({'Blmngtn' : 42.062806,\n",
    "                                               'Blueste' : 42.009408,\n",
    "                                                'BrDale' : 42.052500,\n",
    "                                                'BrkSide': 42.033590,\n",
    "                                                'ClearCr': 42.025425,\n",
    "                                                'CollgCr': 42.021051,\n",
    "                                                'Crawfor': 42.025949,\n",
    "                                                'Edwards': 42.022800,\n",
    "                                                'Gilbert': 42.027885,\n",
    "                                                'GrnHill': 42.000854,\n",
    "                                                'IDOTRR' : 42.019208,\n",
    "                                                'Landmrk': 42.044777,\n",
    "                                                'MeadowV': 41.991866,\n",
    "                                                'Mitchel': 42.031307,\n",
    "                                                'NAmes'  : 42.042966,\n",
    "                                                'NoRidge': 42.050307,\n",
    "                                                'NPkVill': 42.050207,\n",
    "                                                'NridgHt': 42.060356,\n",
    "                                                'NWAmes' : 42.051321,\n",
    "                                                'OldTown': 42.028863,\n",
    "                                                'SWISU'  : 42.017578,\n",
    "                                                'Sawyer' : 42.033611,\n",
    "                                                'SawyerW': 42.035540,\n",
    "                                                'Somerst': 42.052191,\n",
    "                                                'StoneBr': 42.060752,\n",
    "                                                'Timber' : 41.998132,\n",
    "                                                'Veenker': 42.040106})\n",
    "\n",
    "df2['lon'] = df2['Neighborhood'].replace({'Blmngtn' : -93.639963,\n",
    "                                               'Blueste' : -93.645543,\n",
    "                                                'BrDale' : -93.628821,\n",
    "                                                'BrkSide': -93.627552,\n",
    "                                                'ClearCr': -93.675741,\n",
    "                                                'CollgCr': -93.685643,\n",
    "                                                'Crawfor': -93.620215,\n",
    "                                                'Edwards': -93.663040,\n",
    "                                                'Gilbert': -93.615692,\n",
    "                                                'GrnHill': -93.643377,\n",
    "                                                'IDOTRR' : -93.623401,\n",
    "                                                'Landmrk': -93.646239,\n",
    "                                                'MeadowV': -93.602441,\n",
    "                                                'Mitchel': -93.626967,\n",
    "                                                'NAmes'  : -93.613556,\n",
    "                                                'NoRidge': -93.656045,\n",
    "                                                'NPkVill': -93.625827,\n",
    "                                                'NridgHt': -93.657107,\n",
    "                                                'NWAmes' : -93.633798,\n",
    "                                                'OldTown': -93.615497,\n",
    "                                                'SWISU'  : -93.651283,\n",
    "                                                'Sawyer' : -93.669348,\n",
    "                                                'SawyerW': -93.685131,\n",
    "                                                'Somerst': -93.643479,\n",
    "                                                'StoneBr': -93.628955,\n",
    "                                                'Timber' : -93.648335,\n",
    "                                                'Veenker': -93.657032})\n",
    "\n",
    "# create new features by combining existing features\n",
    "df2['IsRegularLotShape'] = (df2['LotShape'] =='Reg') * 1\n",
    "df2['IsLandLevel'] = (df2['LandContour'] == 'Lvl') * 1\n",
    "df2['IsLandSlopeGentle'] = (df2['LandSlope'] == 'Gtl') * 1\n",
    "df2['IsElectricalSBrkr'] = (df2['Electrical'] == 'SBrkr') * 1\n",
    "df2['IsGarageDetached'] = (df2['GarageType'] == 'Detchd') * 1\n",
    "df2['IsPavedDrive'] = (df2['PavedDrive'] == 'Y') * 1\n",
    "df2['HasShed'] = (df2['MiscFeature'] == 'Shed') * 1.\n",
    "df2['Remodeled'] = (df2['YearRemodAdd'] != df2['YearBuilt']) * 1\n",
    "df2['RecentRemodel'] = (df2['YearRemodAdd'] == df2['YrSold']) * 1\n",
    "df2['VeryNewHouse'] = (df2['YearBuilt'] == df2['YrSold']) * 1\n",
    "df2['HasMasVnr'] = (df2['MasVnrArea'] == 0) * 1\n",
    "df2['HasWoodDeck'] = (df2['WoodDeckSF'] == 0) * 1\n",
    "df2['HasOpenPorch'] = (df2['OpenPorchSF'] == 0) * 1\n",
    "df2['HasEnclosedPorch'] = (df2['EnclosedPorch'] == 0) * 1\n",
    "df2['Has3SsnPorch'] = (df2['3SsnPorch'] == 0) * 1\n",
    "df2['HasScreenPorch'] = (df2['ScreenPorch'] == 0) * 1\n",
    "\n",
    "# encode categorical variables\n",
    "df2 = df2.replace({'Alley' : {'Grvl' : 1, 'Pave' : 2},\n",
    "                           'BsmtCond' : {'No' : 0, 'Po' : 1, 'Fa' : 2, 'TA' : 3, 'Gd' : 4, 'Ex' : 5},\n",
    "                           'BsmtExposure' : {'No' : 0, 'Mn' : 1, 'Av': 2, 'Gd' : 3},\n",
    "                           'BsmtFinType1' : {'No' : 0, 'Unf' : 1, 'LwQ': 2, 'Rec' : 3, 'BLQ' : 4,\n",
    "                                             'ALQ' : 5, 'GLQ' : 6},\n",
    "                           'BsmtFinType2' : {'No' : 0, 'Unf' : 1, 'LwQ': 2, 'Rec' : 3, 'BLQ' : 4,\n",
    "                                             'ALQ' : 5, 'GLQ' : 6},\n",
    "                           'BsmtQual' : {'No' : 0, 'Po' : 1, 'Fa' : 2, 'TA': 3, 'Gd' : 4, 'Ex' : 5},\n",
    "                           'ExterCond' : {'Po' : 1, 'Fa' : 2, 'TA': 3, 'Gd': 4, 'Ex' : 5},\n",
    "                           'ExterQual' : {'Po' : 1, 'Fa' : 2, 'TA': 3, 'Gd': 4, 'Ex' : 5},\n",
    "                           'FireplaceQu' : {'No' : 0, 'Po' : 1, 'Fa' : 2, 'TA' : 3, 'Gd' : 4, 'Ex' : 5},\n",
    "                           'Functional' : {'Sal' : 1, 'Sev' : 2, 'Maj2' : 3, 'Maj1' : 4, 'Mod': 5,\n",
    "                                           'Min2' : 6, 'Min1' : 7, 'Typ' : 8},\n",
    "                           'GarageCond' : {'No' : 0, 'Po' : 1, 'Fa' : 2, 'TA' : 3, 'Gd' : 4, 'Ex' : 5},\n",
    "                           'GarageQual' : {'No' : 0, 'Po' : 1, 'Fa' : 2, 'TA' : 3, 'Gd' : 4, 'Ex' : 5},\n",
    "                           'HeatingQC' : {'Po' : 1, 'Fa' : 2, 'TA' : 3, 'Gd' : 4, 'Ex' : 5},\n",
    "                           'KitchenQual' : {'Po' : 1, 'Fa' : 2, 'TA' : 3, 'Gd' : 4, 'Ex' : 5},\n",
    "                           'LandSlope' : {'Sev' : 1, 'Mod' : 2, 'Gtl' : 3},\n",
    "                           'LotShape' : {'IR3' : 1, 'IR2' : 2, 'IR1' : 3, 'Reg' : 4},\n",
    "                           'PavedDrive' : {'N' : 0, 'P' : 1, 'Y' : 2},\n",
    "                           'PoolQC' : {'No' : 0, 'Fa' : 1, 'TA' : 2, 'Gd' : 3, 'Ex' : 4},\n",
    "                           'Street' : {'Grvl' : 1, 'Pave' : 2},\n",
    "                           'Utilities' : {'ELO' : 1, 'NoSeWa' : 2, 'NoSewr' : 3, 'AllPub' : 4}})\n",
    "\n",
    "# simplify existing features\n",
    "df2['SimplOverallQual'] = df2.OverallQual.replace({1 : 1, 2 : 1, 3 : 1, # bad\n",
    "                                                           4 : 2, 5 : 2, 6 : 2, # average\n",
    "                                                           7 : 3, 8 : 3, 9 : 3, 10 : 3 # good\n",
    "                                                          })\n",
    "df2['SimplOverallCond'] = df2.OverallCond.replace({1 : 1, 2 : 1, 3 : 1, # bad\n",
    "                                                           4 : 2, 5 : 2, 6 : 2, # average\n",
    "                                                           7 : 3, 8 : 3, 9 : 3, 10 : 3 # good\n",
    "                                                          })\n",
    "df2['SimplPoolQC'] = df2.PoolQC.replace({1 : 1, 2 : 1, # average\n",
    "                                                 3 : 2, 4 : 2 # good\n",
    "                                                })\n",
    "df2['SimplGarageCond'] = df2.GarageCond.replace({1 : 1, # bad\n",
    "                                                         2 : 1, 3 : 1, # average\n",
    "                                                         4 : 2, 5 : 2 # good\n",
    "                                                        })\n",
    "df2['SimplGarageQual'] = df2.GarageQual.replace({1 : 1, # bad\n",
    "                                                         2 : 1, 3 : 1, # average\n",
    "                                                         4 : 2, 5 : 2 # good\n",
    "                                                        })\n",
    "df2['SimplFireplaceQu'] = df2.FireplaceQu.replace({1 : 1, # bad\n",
    "                                                           2 : 1, 3 : 1, # average\n",
    "                                                           4 : 2, 5 : 2 # good\n",
    "                                                          })\n",
    "df2['SimplFireplaceQu'] = df2.FireplaceQu.replace({1 : 1, # bad\n",
    "                                                           2 : 1, 3 : 1, # average\n",
    "                                                           4 : 2, 5 : 2 # good\n",
    "                                                          })\n",
    "df2['SimplFunctional'] = df2.Functional.replace({1 : 1, 2 : 1, # bad\n",
    "                                                         3 : 2, 4 : 2, # major\n",
    "                                                         5 : 3, 6 : 3, 7 : 3, # minor\n",
    "                                                         8 : 4 # typical\n",
    "                                                        })\n",
    "df2['SimplKitchenQual'] = df2.KitchenQual.replace({1 : 1, # bad\n",
    "                                                           2 : 1, 3 : 1, # average\n",
    "                                                           4 : 2, 5 : 2 # good\n",
    "                                                          })\n",
    "df2['SimplHeatingQC'] = df2.HeatingQC.replace({1 : 1, # bad\n",
    "                                                       2 : 1, 3 : 1, # average\n",
    "                                                       4 : 2, 5 : 2 # good\n",
    "                                                      })\n",
    "df2['BadHeating'] = df2.HeatingQC.replace({1 : 1, # bad\n",
    "                                                       2 : 0, 3 : 0, # average\n",
    "                                                       4 : 0, 5 : 0 # good\n",
    "                                                      })\n",
    "df2['SimplBsmtFinType1'] = df2.BsmtFinType1.replace({1 : 1, # unfinished\n",
    "                                                             2 : 1, 3 : 1, # rec room\n",
    "                                                             4 : 2, 5 : 2, 6 : 2 # living quarters\n",
    "                                                            })\n",
    "df2['SimplBsmtFinType2'] = df2.BsmtFinType2.replace({1 : 1, # unfinished\n",
    "                                                             2 : 1, 3 : 1, # rec room\n",
    "                                                             4 : 2, 5 : 2, 6 : 2 # living quarters\n",
    "                                                            })\n",
    "df2['SimplBsmtCond'] = df2.BsmtCond.replace({1 : 1, # bad\n",
    "                                                     2 : 1, 3 : 1, # average\n",
    "                                                     4 : 2, 5 : 2 # good\n",
    "                                                    })\n",
    "df2['SimplBsmtQual'] = df2.BsmtQual.replace({1 : 1, # bad\n",
    "                                                     2 : 1, 3 : 1, # average\n",
    "                                                     4 : 2, 5 : 2 # good\n",
    "                                                    })\n",
    "df2['SimplExterCond'] = df2.ExterCond.replace({1 : 1, # bad\n",
    "                                                       2 : 1, 3 : 1, # average\n",
    "                                                       4 : 2, 5 : 2 # good\n",
    "                                                      })\n",
    "df2['SimplExterQual'] = df2.ExterQual.replace({1 : 1, # bad\n",
    "                                                       2 : 1, 3 : 1, # average\n",
    "                                                       4 : 2, 5 : 2 # good\n",
    "                                                      })\n",
    "\n",
    "# combining existing features\n",
    "df2['OverallGrade'] = df2['OverallQual'] * df2['OverallCond']\n",
    "df2['GarageGrade'] = df2['GarageQual'] * df2['GarageCond']\n",
    "df2['ExterGrade'] = df2['ExterQual'] * df2['ExterCond']\n",
    "df2['KitchenScore'] = df2['KitchenAbvGr'] * df2['KitchenQual']\n",
    "df2['FireplaceScore'] = df2['Fireplaces'] * df2['FireplaceQu']\n",
    "df2['GarageScore'] = df2['GarageArea'] * df2['GarageQual']\n",
    "df2['PoolScore'] = df2['PoolArea'] * df2['PoolQC']\n",
    "df2['SimplOverallGrade'] = df2['SimplOverallQual'] * df2['SimplOverallCond']\n",
    "df2['SimplExterGrade'] = df2['SimplExterQual'] * df2['SimplExterCond']\n",
    "df2['SimplPoolScore'] = df2['PoolArea'] * df2['SimplPoolQC']\n",
    "df2['SimplGarageScore'] = df2['GarageArea'] * df2['SimplGarageQual']\n",
    "df2['SimplFireplaceScore'] = df2['Fireplaces'] * df2['SimplFireplaceQu']\n",
    "df2['SimplKitchenScore'] = df2['KitchenAbvGr'] * df2['SimplKitchenQual']\n",
    "df2['TotalBath'] = df2['BsmtFullBath'] + (0.5 * df2['BsmtHalfBath']) + df2['FullBath'] + (0.5 * df2['HalfBath'])\n",
    "df2['AllSF'] = df2['GrLivArea'] + df2['TotalBsmtSF']\n",
    "df2['AllFlrsSF'] = df2['1stFlrSF'] + df2['2ndFlrSF']\n",
    "df2['AllPorchSF'] = df2['OpenPorchSF'] + df2['EnclosedPorch'] + df2['3SsnPorch'] + df2['ScreenPorch']\n",
    "df2['HasMasVnr'] = df2.MasVnrType.replace({'BrkCmn' : 1, 'BrkFace' : 1, 'CBlock' : 1,\n",
    "                                                   'Stone' : 1, 'None' : 0})\n",
    "df2['SaleCondition_PriceDown'] = df2.SaleCondition.replace({'Abnorml': 1,\n",
    "                                                              'Alloca': 1,\n",
    "                                                              'AdjLand': 1,\n",
    "                                                              'Family': 1,\n",
    "                                                              'Normal': 0,\n",
    "                                                              'Partial': 0})\n",
    "\n",
    "df2['BoughtOffPlan'] = df2.SaleCondition.replace({'Abnorml' : 0, 'Alloca' : 0, 'AdjLand' : 0,\n",
    "                                                          'Family' : 0, 'Normal' : 0, 'Partial' : 1})\n",
    "\n",
    "# taken from https://www.kaggle.com/yadavsarthak/house-prices-advanced-regression-techniques/you-got-this-feature-engineering-and-lasso\n",
    "df2['1stFlr_2ndFlr_Sf'] = np.log1p(df2['1stFlrSF'] + df2['2ndFlrSF'])\n",
    "df2['All_Liv_SF'] = np.log1p(df2['1stFlr_2ndFlr_Sf'] + df2['LowQualFinSF'] + df2['GrLivArea'])\n",
    "\n",
    "# split between numerical and categorical features\n",
    "df_num = df2.select_dtypes(include = ['float64', 'int64']) # 109 features + SalePrice\n",
    "del df_num['SalePrice']\n",
    "df_num = pd.concat([df_num, df['SalePrice']], axis=1, sort=False)\n",
    "df_cat = df2[[i for i in df2 if i not in df_num.columns.tolist()[:-1]]] # 25 features + SalePrice\n",
    "\n",
    "# map the following categorical features: \n",
    "cat_to_map = ['MSZoning', 'Alley', 'LandContour', 'LotConfig', 'Neighborhood', 'BldgType', 'HouseStyle', \n",
    "             'RoofStyle', 'RoofMatl', 'Exterior1st', 'Exterior2nd', 'MasVnrType', 'Foundation',\n",
    "             'Heating', 'CentralAir', 'Electrical', 'GarageType', 'Fence', 'MiscFeature', 'SaleType']\n",
    "\n",
    "ord_to_map = ['Condition1', 'Condition2', 'SaleCondition', 'GarageFinish']\n",
    " \n",
    "df_cat_replace = df_cat.copy()\n",
    "df_cat_replace = df_cat_replace[cat_to_map + ord_to_map + ['SalePrice']] # 22 categorical variables + SalePrice\n",
    "\n",
    "# map categorical features\n",
    "df_cat_replace = pd.get_dummies(df_cat_replace, columns=cat_to_map, prefix=cat_to_map)\n",
    "\n",
    "# map ordinal variables:              \n",
    "for i in range(len(ord_to_map)):\n",
    "    labels = df_cat[ord_to_map[i]].astype('category').cat.categories.tolist()\n",
    "    replace_map = {ord_to_map[i]: {k: v for k,v in zip(labels, list(range(1, len(labels)+1)))}}\n",
    "    df_cat_replace.replace(replace_map, inplace=True)\n",
    "    \n",
    "df_cat_mapped = df_cat_replace.copy()\n",
    "del df_cat_mapped['SalePrice']\n",
    "df_num_replace = pd.concat([df_cat_mapped, df_num.copy()], axis=1, sort=False)\n",
    "print(df_num_replace.columns.tolist())"
   ]
  },
  {
   "cell_type": "code",
   "execution_count": 3,
   "metadata": {
    "collapsed": false
   },
   "outputs": [
    {
     "name": "stdout",
     "output_type": "stream",
     "text": [
      "(1460, 21) (1459, 21) (1460,)\n"
     ]
    }
   ],
   "source": [
    "# filter the features resulting from EDA\n",
    "features_selected =['1stFlrSF','AllFlrsSF','AllSF','BsmtQual','ExterGrade','ExterQual','FireplaceQu',\n",
    "                             'Foundation_PConc', 'FullBath','GarageCars','GarageScore','GarageYrBlt','KitchenQual',\n",
    "                             'MasVnrArea','OverallGrade','OverallQual','TotalBath','TotalBsmtSF','TotRmsAbvGrd',\n",
    "                             'YearBuilt','YearRemodAdd']\n",
    "\n",
    "features_selected = [i for i in features_selected if i in df_num_replace.columns[:-1].tolist()]\n",
    "df_X = df_num_replace.copy()[features_selected]\n",
    "\n",
    "# replace all remaining null values\n",
    "#df_X.replace('', np.nan)\n",
    "df_X.replace(r'\\s+', np.nan, regex=True)\n",
    "df_X = df_X.apply(lambda x: x.fillna(x.mean()), axis=0)\n",
    "\n",
    "# split features observations for train and forecast\n",
    "X = np.asarray(df_X[:mask])\n",
    "X_forecast = np.asarray(df_X[mask:])\n",
    "print(X.shape, X_forecast.shape, y.shape)"
   ]
  },
  {
   "cell_type": "code",
   "execution_count": 4,
   "metadata": {
    "collapsed": false
   },
   "outputs": [
    {
     "name": "stdout",
     "output_type": "stream",
     "text": [
      "Train set: (1314, 21) (1314,)\n",
      "Test set: (146, 21) (146,)\n"
     ]
    }
   ],
   "source": [
    "# split the dataset in train and validation sets\n",
    "X_train, X_test, y_train, y_test = train_test_split(X, y, test_size=0.1, random_state=4)\n",
    "print ('Train set:', X_train.shape,  y_train.shape)\n",
    "print ('Test set:', X_test.shape,  y_test.shape)"
   ]
  },
  {
   "cell_type": "code",
   "execution_count": 5,
   "metadata": {
    "collapsed": false
   },
   "outputs": [
    {
     "name": "stdout",
     "output_type": "stream",
     "text": [
      "{'estimator__C': 2, 'estimator__epsilon': 0.09, 'estimator__kernel': 'rbf'}\n"
     ]
    }
   ],
   "source": [
    "# set the parameters by cross-validation\n",
    "from sklearn.pipeline import Pipeline\n",
    "from sklearn.preprocessing import StandardScaler\n",
    "from sklearn.model_selection import GridSearchCV\n",
    "from sklearn.svm import SVR\n",
    "\n",
    "y_scaler = StandardScaler()\n",
    "y_train = y_scaler.fit_transform(y_train.reshape(-1, 1))\n",
    "\n",
    "pipe = Pipeline(steps=[('scaler', StandardScaler()), ('estimator', SVR())])\n",
    "param_grid=dict(estimator__kernel = ['linear', 'rbf'],\n",
    "                estimator__C = [1, 1.5, 1.75, 2, 2.25, 2.5, 3, 3.5, 4, 4.5],\n",
    "                estimator__epsilon = [0.05, 0.07, 0.08, 0.09, 0.1, 0.11, 0.12, 0.13, 0.15, 0.2])\n",
    "\n",
    "search = GridSearchCV(pipe, param_grid, n_jobs=-1)\n",
    "search.fit(X_train, y_train.ravel())\n",
    "print(search.best_params_)\n",
    "#{'estimator__C': 2, 'estimator__epsilon': 0.09, 'estimator__kernel': 'rbf'}"
   ]
  },
  {
   "cell_type": "code",
   "execution_count": 6,
   "metadata": {
    "collapsed": false
   },
   "outputs": [
    {
     "data": {
      "text/plain": [
       "array([206802.33612197, 205880.28625011, 147262.79774312, 146684.30468987,\n",
       "       108825.2754469 ])"
      ]
     },
     "execution_count": 6,
     "metadata": {},
     "output_type": "execute_result"
    }
   ],
   "source": [
    "# prediction for the validation set\n",
    "yhat = y_scaler.inverse_transform(search.predict(X_test))\n",
    "yhat[0:5]"
   ]
  },
  {
   "cell_type": "code",
   "execution_count": 7,
   "metadata": {
    "collapsed": false,
    "scrolled": true
   },
   "outputs": [
    {
     "name": "stdout",
     "output_type": "stream",
     "text": [
      "21701.751403985156\n"
     ]
    },
    {
     "data": {
      "image/png": "[encoded data removed]",
      "text/plain": [
       "<Figure size 432x288 with 1 Axes>"
      ]
     },
     "metadata": {
      "needs_background": "light"
     },
     "output_type": "display_data"
    }
   ],
   "source": [
    "# plot a few predictions versus outcomes\n",
    "from sklearn.metrics import mean_squared_error\n",
    "from math import sqrt\n",
    "rms = sqrt(mean_squared_error(y_test, yhat))\n",
    "print(rms)\n",
    "\n",
    "x = np.arange(20)\n",
    "plt.plot(x, yhat[0:20], marker = 's', linestyle = 'None')\n",
    "plt.plot(x, y_test[0:20], marker = 'o', linestyle = 'None')\n",
    "plt.show()"
   ]
  },
  {
   "cell_type": "code",
   "execution_count": 8,
   "metadata": {
    "collapsed": false,
    "scrolled": true
   },
   "outputs": [],
   "source": [
    "# prediction based on provided test series\n",
    "yhat = y_scaler.inverse_transform(search.predict(X_forecast))\n",
    "yhat[0:5]\n",
    "pd.DataFrame(yhat).to_csv('yhat.csv')"
   ]
  }
 ],
 "metadata": {
  "kernelspec": {
   "display_name": "Python 3",
   "language": "python",
   "name": "python3"
  },
  "language_info": {
   "codemirror_mode": {
    "name": "ipython",
    "version": 3
   },
   "file_extension": ".py",
   "mimetype": "text/x-python",
   "name": "python",
   "nbconvert_exporter": "python",
   "pygments_lexer": "ipython3",
   "version": "3.6.8"
  }
 },
 "nbformat": 4,
 "nbformat_minor": 4
}
