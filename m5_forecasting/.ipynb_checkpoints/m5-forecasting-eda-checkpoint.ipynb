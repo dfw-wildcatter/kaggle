{
 "cells": [
  {
   "cell_type": "markdown",
   "metadata": {},
   "source": [
    "# **EXPLORATORY DATA ANALYSIS FOR M5**"
   ]
  },
  {
   "cell_type": "markdown",
   "metadata": {},
   "source": [
    "## **INITIALIZATION**"
   ]
  },
  {
   "cell_type": "code",
   "execution_count": 1,
   "metadata": {},
   "outputs": [
    {
     "name": "stdout",
     "output_type": "stream",
     "text": [
      "3.7.5 (default, Apr 14 2020, 11:44:53) \n",
      "[GCC 7.5.0]\n"
     ]
    }
   ],
   "source": [
    "import sys\n",
    "print(sys.version)"
   ]
  },
  {
   "cell_type": "code",
   "execution_count": 2,
   "metadata": {},
   "outputs": [],
   "source": [
    "# load required packages\n",
    "import os\n",
    "from datetime import datetime, timedelta\n",
    "\n",
    "import numpy as np\n",
    "import pandas as pd\n",
    "import pylab as pl\n",
    "\n",
    "import matplotlib.pyplot as plt\n",
    "plt.style.use('bmh')\n",
    "%matplotlib inline\n",
    "\n",
    "#import seaborn as sns\n",
    "#color = sns.color_palette()\n",
    "#sns.set_style('darkgrid')\n",
    "\n",
    "from scipy import stats\n",
    "from scipy.stats import norm, skew\n",
    "\n",
    "import gc\n",
    "import lightgbm as lgb"
   ]
  },
  {
   "cell_type": "code",
   "execution_count": 3,
   "metadata": {},
   "outputs": [],
   "source": [
    "# ignore warnings from sklearn and seaborn\n",
    "import warnings\n",
    "def ignore_warn(*args, **kwargs):\n",
    "    pass\n",
    "warnings.warn = ignore_warn\n",
    "\n",
    "# pandas output format\n",
    "pd.set_option('display.float_format', lambda x: '{:.3f}'.format(x))\n",
    "pd.options.display.max_columns = 50"
   ]
  },
  {
   "cell_type": "code",
   "execution_count": 4,
   "metadata": {},
   "outputs": [
    {
     "name": "stdout",
     "output_type": "stream",
     "text": [
      "calendar.csv\n",
      "M5-Competitors-Guide-Final-10-March-2020.odt\n",
      "m5-forecasting-eda (copy 1).ipynb\n",
      "m5-forecasting-eda.ipynb\n",
      "sales_train_validation.csv\n",
      "sample_submission.csv\n",
      "sell_prices.csv\n",
      "SGB-m5-forecasting.ipynb\n",
      "\n"
     ]
    }
   ],
   "source": [
    "# check files available\n",
    "from subprocess import check_output\n",
    "print(check_output(['ls', os.getcwd()]).decode('utf8'))"
   ]
  },
  {
   "cell_type": "markdown",
   "metadata": {},
   "source": [
    "## **EXPLORATION**"
   ]
  },
  {
   "cell_type": "code",
   "execution_count": 5,
   "metadata": {},
   "outputs": [],
   "source": [
    "cal_dtypes = {'event_name_1': 'category', 'event_name_2': 'category', \n",
    "              'event_type_1': 'category', 'event_type_2': 'category',\n",
    "              'weekday': 'category', 'wm_yr_wk': 'int16', 'wday': 'int16',\n",
    "              'month': 'int16', 'year': 'int16', 'snap_CA': 'float32', \n",
    "              'snap_TX': 'float32', 'snap_WI': 'float32'}\n",
    "price_dtypes = {'store_id': 'category', 'item_id': 'category', 'wm_yr_wk': 'int16',\n",
    "               'sell_price': 'float32'}"
   ]
  },
  {
   "cell_type": "code",
   "execution_count": 6,
   "metadata": {},
   "outputs": [
    {
     "data": {
      "text/plain": [
       "datetime.datetime(2016, 4, 25, 0, 0)"
      ]
     },
     "execution_count": 6,
     "metadata": {},
     "output_type": "execute_result"
    }
   ],
   "source": [
    "# parameters for constructing time series\n",
    "h = 28 # forecast horizon\n",
    "max_lags = 57\n",
    "tr_last = 1913 # last training observation\n",
    "fday = datetime(2016, 4, 25) # forecast start date\n",
    "fday"
   ]
  },
  {
   "cell_type": "code",
   "execution_count": 7,
   "metadata": {},
   "outputs": [],
   "source": [
    "# construct time series\n",
    "def create_df(is_train = True, nrows = None, first_day = 1200):\n",
    "    prices = pd.read_csv('sell_prices.csv', dtype = price_dtypes)\n",
    "    for col, col_dtype in price_dtypes.items():\n",
    "        if col_dtype == 'category':\n",
    "            prices[col] = prices[col].cat.codes.astype('int16')\n",
    "            prices[col] -= prices[col].min() # scaling\n",
    "    cal = pd.read_csv('calendar.csv', dtype = cal_dtypes)\n",
    "    cal['date'] = pd.to_datetime(cal['date'])\n",
    "    for col, col_dtype in cal_dtypes.items():\n",
    "        if col_dtype == 'category':\n",
    "            cal[col] = cal[col].cat.codes.astype('int16')\n",
    "            cal[col] -= cal[col].min()\n",
    "    \n",
    "    start_day = max(1 if is_train else tr_last - max_lags, first_day)\n",
    "    numcols = [f'd_{day}' for day in range(start_day, tr_last+1)] #sales data rolling window\n",
    "    catcols = ['id', 'item_id', 'dept_id', 'store_id', 'cat_id', 'state_id']\n",
    "    dtype = {numcol: 'float32' for numcol in numcols}\n",
    "    dtype.update({col: 'category' for col in catcols if col != 'id'})\n",
    "    df = pd.read_csv('sales_train_validation.csv', nrows = nrows, \n",
    "                     usecols = catcols + numcols, dtype = dtype)\n",
    "    for col in catcols:\n",
    "        if col != 'id':\n",
    "            df[col] = df[col].cat.codes.astype('int16')\n",
    "            df[col] -= df[col].min()\n",
    "    if not is_train:\n",
    "        for day in range(tr_last + 1, tr_last + 28 + 1):\n",
    "            df[f'd_{day}'] = np.nan\n",
    "    df = pd.melt(df, \n",
    "                 id_vars = catcols,\n",
    "                 value_vars = [col for col in df.columns if col.startswith('d_')], # numeric\n",
    "                 var_name = 'd', # day\n",
    "                 value_name = 'sales')\n",
    "    df = df.merge(cal, on='d', copy = False)\n",
    "    df = df.merge(prices, on = ['store_id', 'item_id', 'wm_yr_wk'], copy=False)\n",
    "    return df "
   ]
  },
  {
   "cell_type": "code",
   "execution_count": 8,
   "metadata": {},
   "outputs": [],
   "source": [
    "# create forecast series\n",
    "def create_fea(df):\n",
    "    lags = [7, 28]\n",
    "    lag_cols = [f'lag_{lag}' for lag in lags]\n",
    "    for lag, lag_col in zip(lags, lag_cols):\n",
    "        df[lag_col] = df[['id', 'sales']].groupby('id')['sales'].shift(lag)\n",
    "        \n",
    "    wins = [7, 28] # windows\n",
    "    for win in wins:\n",
    "        for lag, lag_col in zip(lags, lag_cols):\n",
    "            df[f'rmean_{lag}_{win}'] = df[['id', lag_col]].groupby('id')[lag_col].transform(lambda x: x.rolling(win).mean())\n",
    "    \n",
    "    date_features = {\n",
    "        'wday': 'weekday',\n",
    "        'week': 'weekofyear',\n",
    "        'month': 'month',\n",
    "        'quarter': 'quarter',\n",
    "        'year': 'year',\n",
    "        'mday': 'day'}\n",
    "    \n",
    "    for date_feat_name, date_feat_func in date_features.items():\n",
    "        if date_feat_name in df.columns:\n",
    "            df[date_feat_name] = df[date_feat_name].astype('int16')\n",
    "        else:\n",
    "            df[date_feat_name] = getattr(df['date'].dt, date_feat_func).astype('int16')"
   ]
  },
  {
   "cell_type": "code",
   "execution_count": 9,
   "metadata": {},
   "outputs": [
    {
     "name": "stdout",
     "output_type": "stream",
     "text": [
      "CPU times: user 29 s, sys: 5.9 s, total: 34.9 s\n",
      "Wall time: 36.7 s\n"
     ]
    },
    {
     "data": {
      "text/plain": [
       "(37960593, 22)"
      ]
     },
     "execution_count": 9,
     "metadata": {},
     "output_type": "execute_result"
    }
   ],
   "source": [
    "%%time\n",
    "df = create_df(is_train=True, first_day = 500) #skip days to save on memory\n",
    "df.shape"
   ]
  },
  {
   "cell_type": "code",
   "execution_count": null,
   "metadata": {
    "collapsed": true
   },
   "outputs": [],
   "source": [
    "#df.head()\n",
    "df.info()"
   ]
  },
  {
   "cell_type": "code",
   "execution_count": 10,
   "metadata": {},
   "outputs": [
    {
     "name": "stdout",
     "output_type": "stream",
     "text": [
      "CPU times: user 2min 39s, sys: 10.7 s, total: 2min 50s\n",
      "Wall time: 2min 52s\n"
     ]
    },
    {
     "data": {
      "text/plain": [
       "(37960593, 31)"
      ]
     },
     "execution_count": 10,
     "metadata": {},
     "output_type": "execute_result"
    }
   ],
   "source": [
    "%%time\n",
    "create_fea(df)\n",
    "df.shape"
   ]
  },
  {
   "cell_type": "code",
   "execution_count": null,
   "metadata": {
    "collapsed": true
   },
   "outputs": [],
   "source": [
    "#df.head()\n",
    "df.info()"
   ]
  },
  {
   "cell_type": "code",
   "execution_count": 11,
   "metadata": {},
   "outputs": [
    {
     "data": {
      "text/plain": [
       "(36283643, 31)"
      ]
     },
     "execution_count": 11,
     "metadata": {},
     "output_type": "execute_result"
    }
   ],
   "source": [
    "# drop nans\n",
    "df.dropna(inplace=True)\n",
    "df.shape"
   ]
  },
  {
   "cell_type": "code",
   "execution_count": 13,
   "metadata": {},
   "outputs": [],
   "source": [
    "# model\n",
    "cat_feats = ['item_id', 'dept_id', 'store_id', 'cat_id', 'state_id'] + ['event_name_1', 'event_name_2', 'event_type_1', 'event_type_2']\n",
    "useless_cols = ['id', 'date', 'sales', 'd', 'wm_yr_wk', 'weekday']\n",
    "train_cols = df.columns[~df.columns.isin(useless_cols)]\n",
    "X_train = df[train_cols]\n",
    "y_train = df['sales']"
   ]
  },
  {
   "cell_type": "code",
   "execution_count": 16,
   "metadata": {},
   "outputs": [
    {
     "ename": "MemoryError",
     "evalue": "Unable to allocate array with shape (36283643,) and data type int64",
     "output_type": "error",
     "traceback": [
      "\u001b[0;31m---------------------------------------------------------------------------\u001b[0m",
      "\u001b[0;31mMemoryError\u001b[0m                               Traceback (most recent call last)",
      "\u001b[0;32m<timed exec>\u001b[0m in \u001b[0;36m<module>\u001b[0;34m\u001b[0m\n",
      "\u001b[0;32mmtrand.pyx\u001b[0m in \u001b[0;36mnumpy.random.mtrand.RandomState.choice\u001b[0;34m()\u001b[0m\n",
      "\u001b[0;32mmtrand.pyx\u001b[0m in \u001b[0;36mnumpy.random.mtrand.RandomState.permutation\u001b[0;34m()\u001b[0m\n",
      "\u001b[0;31mMemoryError\u001b[0m: Unable to allocate array with shape (36283643,) and data type int64"
     ]
    }
   ],
   "source": [
    "%%time\n",
    "np.random.seed(777)\n",
    "fake_valid_inds = np.random.choice(X_train.index.values, 2_000_000, replace=False)\n",
    "train_inds = np.setdiff1d(X_train.index.values, fake_valid_inds)\n",
    "train_data = lgb.Dataset(X_train.loc[train_inds], label = y_train.loc[train_inds], \n",
    "                        categorical_feature = cat_feats, free_raw_data=False)\n",
    "fake_valid_data = lgb.Dataset(X_train.loc[fake_valid_inds], label = y_train.loc[fake_valid_inds],\n",
    "                            categorical_feature = cat_feats, free_raw_data=False)"
   ]
  },
  {
   "cell_type": "code",
   "execution_count": null,
   "metadata": {},
   "outputs": [],
   "source": []
  },
  {
   "cell_type": "code",
   "execution_count": null,
   "metadata": {
    "collapsed": true
   },
   "outputs": [],
   "source": []
  },
  {
   "cell_type": "code",
   "execution_count": null,
   "metadata": {
    "collapsed": true
   },
   "outputs": [],
   "source": []
  }
 ],
 "metadata": {
  "kernelspec": {
   "display_name": "Python 3",
   "language": "python",
   "name": "python3"
  },
  "language_info": {
   "codemirror_mode": {
    "name": "ipython",
    "version": 3
   },
   "file_extension": ".py",
   "mimetype": "text/x-python",
   "name": "python",
   "nbconvert_exporter": "python",
   "pygments_lexer": "ipython3",
   "version": "3.7.5"
  }
 },
 "nbformat": 4,
 "nbformat_minor": 4
}
